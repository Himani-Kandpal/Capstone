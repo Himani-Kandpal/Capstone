{
 "cells": [
  {
   "cell_type": "code",
   "execution_count": 1,
   "id": "5e161420",
   "metadata": {
    "scrolled": true
   },
   "outputs": [],
   "source": [
    "# importing esssential libraries\n",
    "import numpy as np\n",
    "import pandas as pd\n",
    "import scipy.stats as stats\n",
    "import warnings\n",
    "warnings.filterwarnings('ignore')\n",
    "import matplotlib.pyplot as plt\n",
    "import seaborn as sns\n",
    "from statsmodels.stats.outliers_influence import variance_inflation_factor"
   ]
  },
  {
   "cell_type": "code",
   "execution_count": null,
   "id": "6a70923c",
   "metadata": {},
   "outputs": [],
   "source": [
    "# Campaign related tables\n",
    "campaign_desc = pd.read_csv(r\"C:\\Users\\HP\\Downloads\\G6 - Confidential\\campaign_desc.csv\")\n",
    "campaign_table = pd.read_csv(r\"C:\\Users\\HP\\Downloads\\G6 - Confidential\\campaign_table.csv\")\n",
    "\n",
    "# Coupon related tables\n",
    "coupon = pd.read_csv(r\"C:\\Users\\HP\\Downloads\\G6 - Confidential\\coupon.csv\")\n",
    "coupon_redempt = pd.read_csv(r\"C:\\Users\\HP\\Downloads\\G6 - Confidential\\coupon_redempt.csv\")\n",
    "\n",
    "# Product related tables\n",
    "casual_data = pd.read_csv(r\"C:\\Users\\HP\\Downloads\\G6 - Confidential\\causal_data.csv\")\n",
    "product = pd.read_csv(r\"C:\\Users\\HP\\Downloads\\G6 - Confidential\\product.csv\")\n",
    "\n",
    "# Customer/ Transaction related tables\n",
    "hh_demographic = pd.read_csv(r\"C:\\Users\\HP\\Downloads\\G6 - Confidential\\hh_demographic.csv\")\n",
    "transaction_data = pd.read_csv(r\"C:\\Users\\HP\\Downloads\\G6 - Confidential\\transaction_data.csv\")\n",
    "\n",
    "t=['campaign_desc','campaign_table','causal_data','coupon','coupon_redempt','hh_demographic','product','transaction_data']"
   ]
  },
  {
   "cell_type": "markdown",
   "id": "534e9d2d",
   "metadata": {},
   "source": [
    "# Target Creation\n",
    "* As there are about 92k products out of which 44k are those products for which coupons were provided.\n",
    "* Rest 48k are those products for which coupons were not provided.\n",
    "* As we are clueless that how the manufacturer selected the products for which they had to provide coupons.\n",
    "* To build a problem statement here we assume that manufacture has randomly selected the products for coupon generation.\n",
    "* Our motive is to figureout the dependancy of coupon redemption on the product and on its historical data thus provided.\n",
    "* Now all those products which were randomly selected for the coupon redemption. => will be consider as the training set\n",
    "* All those products for which coupons were not provided previously => will turn out into real test set."
   ]
  },
  {
   "cell_type": "code",
   "execution_count": 3,
   "id": "1b43a469",
   "metadata": {},
   "outputs": [
    {
     "data": {
      "text/html": [
       "<div>\n",
       "<style scoped>\n",
       "    .dataframe tbody tr th:only-of-type {\n",
       "        vertical-align: middle;\n",
       "    }\n",
       "\n",
       "    .dataframe tbody tr th {\n",
       "        vertical-align: top;\n",
       "    }\n",
       "\n",
       "    .dataframe thead th {\n",
       "        text-align: right;\n",
       "    }\n",
       "</style>\n",
       "<table border=\"1\" class=\"dataframe\">\n",
       "  <thead>\n",
       "    <tr style=\"text-align: right;\">\n",
       "      <th></th>\n",
       "      <th>Table names</th>\n",
       "      <th>Description</th>\n",
       "    </tr>\n",
       "  </thead>\n",
       "  <tbody>\n",
       "    <tr>\n",
       "      <th>0</th>\n",
       "      <td>product</td>\n",
       "      <td>Product table with target variable</td>\n",
       "    </tr>\n",
       "    <tr>\n",
       "      <th>1</th>\n",
       "      <td>d</td>\n",
       "      <td>Main table after feature engineering</td>\n",
       "    </tr>\n",
       "    <tr>\n",
       "      <th>2</th>\n",
       "      <td>df1</td>\n",
       "      <td>Tgt encoding is done on  Main table</td>\n",
       "    </tr>\n",
       "    <tr>\n",
       "      <th>3</th>\n",
       "      <td>df2</td>\n",
       "      <td>pd.factorize is done on Main table</td>\n",
       "    </tr>\n",
       "  </tbody>\n",
       "</table>\n",
       "</div>"
      ],
      "text/plain": [
       "  Table names                           Description\n",
       "0     product    Product table with target variable\n",
       "1           d  Main table after feature engineering\n",
       "2         df1   Tgt encoding is done on  Main table\n",
       "3         df2    pd.factorize is done on Main table"
      ]
     },
     "execution_count": 3,
     "metadata": {},
     "output_type": "execute_result"
    }
   ],
   "source": [
    "# tables formed throughout.\n",
    "tables=pd.DataFrame({'Table names':['product','d','df1','df2'],'Description':['Product table with target variable',\n",
    "                                                                            'Main table after feature engineering',\n",
    "                                                                            'Tgt encoding is done on  Main table',\n",
    "                                                                            'pd.factorize is done on Main table']})\n",
    "tables"
   ]
  },
  {
   "cell_type": "code",
   "execution_count": 4,
   "id": "6d6245af",
   "metadata": {},
   "outputs": [],
   "source": [
    "# Triming the transaction_data table.\n",
    "transaction_data=transaction_data[(transaction_data.QUANTITY!=0)&(transaction_data.SALES_VALUE!=0)]"
   ]
  },
  {
   "cell_type": "code",
   "execution_count": 5,
   "id": "5ad90743",
   "metadata": {},
   "outputs": [
    {
     "data": {
      "text/plain": [
       "92353"
      ]
     },
     "execution_count": 5,
     "metadata": {},
     "output_type": "execute_result"
    }
   ],
   "source": [
    "product.PRODUCT_ID.nunique()  \n",
    "# 92k products are available in total."
   ]
  },
  {
   "cell_type": "code",
   "execution_count": 6,
   "id": "ed4b4928",
   "metadata": {},
   "outputs": [
    {
     "data": {
      "text/plain": [
       "44133"
      ]
     },
     "execution_count": 6,
     "metadata": {},
     "output_type": "execute_result"
    }
   ],
   "source": [
    "coupon.PRODUCT_ID.nunique()   \n",
    "# 44k are those products for which coupons were provided out of 92k."
   ]
  },
  {
   "cell_type": "code",
   "execution_count": 7,
   "id": "2fbd5a22",
   "metadata": {},
   "outputs": [
    {
     "data": {
      "text/plain": [
       "44133"
      ]
     },
     "execution_count": 7,
     "metadata": {},
     "output_type": "execute_result"
    }
   ],
   "source": [
    "# creating the list containing the products for which coupon was provided.\n",
    "productsforwhichcouponwasprovided=list(coupon.PRODUCT_ID.unique())\n",
    "len(productsforwhichcouponwasprovided)"
   ]
  },
  {
   "cell_type": "code",
   "execution_count": 8,
   "id": "24bf07ae",
   "metadata": {},
   "outputs": [
    {
     "data": {
      "text/plain": [
       "48220"
      ]
     },
     "execution_count": 8,
     "metadata": {},
     "output_type": "execute_result"
    }
   ],
   "source": [
    "product.PRODUCT_ID.nunique()-coupon.PRODUCT_ID.nunique()     \n",
    "# 48k are those products for which coupons were not provided according to coupon table."
   ]
  },
  {
   "cell_type": "code",
   "execution_count": 9,
   "id": "a9c29be4",
   "metadata": {},
   "outputs": [
    {
     "data": {
      "text/plain": [
       "9226"
      ]
     },
     "execution_count": 9,
     "metadata": {},
     "output_type": "execute_result"
    }
   ],
   "source": [
    "transaction_data[(transaction_data.SALES_VALUE>0)&(transaction_data.QUANTITY>0)&(transaction_data.COUPON_DISC<0)]['PRODUCT_ID'].nunique()\n",
    "# 9.2k are those products for which coupon was redempt."
   ]
  },
  {
   "cell_type": "code",
   "execution_count": 10,
   "id": "8f9d036c",
   "metadata": {},
   "outputs": [
    {
     "data": {
      "text/plain": [
       "9226"
      ]
     },
     "execution_count": 10,
     "metadata": {},
     "output_type": "execute_result"
    }
   ],
   "source": [
    "# creating the list containing the products for which coupon was redempt.\n",
    "productsforwhichcouponwasredempt=list(transaction_data.loc[(transaction_data.SALES_VALUE>0)&(transaction_data.QUANTITY>0)&(transaction_data.COUPON_DISC<0),'PRODUCT_ID'].unique())\n",
    "len(productsforwhichcouponwasredempt)"
   ]
  },
  {
   "cell_type": "code",
   "execution_count": 11,
   "id": "765f1275",
   "metadata": {},
   "outputs": [],
   "source": [
    "# creation of the target variable..\n",
    "p1 = product[product.PRODUCT_ID.isin(productsforwhichcouponwasprovided)]\n",
    "p1['Target'] = p1.PRODUCT_ID.isin(productsforwhichcouponwasredempt).astype('int')\n",
    "product['Target'] = p1['Target']\n",
    "del p1"
   ]
  },
  {
   "cell_type": "code",
   "execution_count": 12,
   "id": "c0fac473",
   "metadata": {},
   "outputs": [],
   "source": [
    "# function for creating target variable..\n",
    "def yo(x):\n",
    "    if (x in productsforwhichcouponwasprovided)&(x not in productsforwhichcouponwasredempt):\n",
    "        return 0\n",
    "    if (x in productsforwhichcouponwasprovided)&(x in productsforwhichcouponwasredempt):\n",
    "        return 1\n",
    "    if (x not in productsforwhichcouponwasprovided):\n",
    "        return np.nan\n",
    "#product['Target']=product.PRODUCT_ID.apply(yo)"
   ]
  },
  {
   "cell_type": "code",
   "execution_count": 13,
   "id": "4280f787",
   "metadata": {},
   "outputs": [
    {
     "data": {
      "text/plain": [
       "-1.0    48220\n",
       " 0.0    37995\n",
       " 1.0     6138\n",
       "Name: Target, dtype: int64"
      ]
     },
     "execution_count": 13,
     "metadata": {},
     "output_type": "execute_result"
    }
   ],
   "source": [
    "product.Target.fillna(-1).value_counts()"
   ]
  },
  {
   "cell_type": "markdown",
   "id": "77f920b5",
   "metadata": {},
   "source": [
    "# 9.2k dropped to 6.8k => for some products coupon generation wasnt done. but redemption took place. => Data anomalies.\n",
    "# we will consider 6.8k for the further analysis."
   ]
  },
  {
   "cell_type": "code",
   "execution_count": 14,
   "id": "0876c321",
   "metadata": {},
   "outputs": [
    {
     "data": {
      "text/plain": [
       "PRODUCT_ID                  0\n",
       "MANUFACTURER                0\n",
       "DEPARTMENT                  0\n",
       "BRAND                       0\n",
       "COMMODITY_DESC              0\n",
       "SUB_COMMODITY_DESC          0\n",
       "CURR_SIZE_OF_PRODUCT        0\n",
       "Target                  48220\n",
       "dtype: int64"
      ]
     },
     "execution_count": 14,
     "metadata": {},
     "output_type": "execute_result"
    }
   ],
   "source": [
    "# checking for null values.\n",
    "product.isnull().sum()\n",
    "# The null values contained by Target are the actual test set on which we will do the final testing of our mode. "
   ]
  },
  {
   "cell_type": "code",
   "execution_count": 15,
   "id": "d6f50791",
   "metadata": {},
   "outputs": [],
   "source": [
    "# MANUFACTURER is numercial columns with categorical properties. => before encoding and scaling to dtype to be changed.\n",
    "product['MANUFACTURER']=product['MANUFACTURER'].astype('object')"
   ]
  },
  {
   "cell_type": "code",
   "execution_count": 16,
   "id": "c75da184",
   "metadata": {
    "scrolled": true
   },
   "outputs": [
    {
     "data": {
      "text/html": [
       "<div>\n",
       "<style scoped>\n",
       "    .dataframe tbody tr th:only-of-type {\n",
       "        vertical-align: middle;\n",
       "    }\n",
       "\n",
       "    .dataframe tbody tr th {\n",
       "        vertical-align: top;\n",
       "    }\n",
       "\n",
       "    .dataframe thead th {\n",
       "        text-align: right;\n",
       "    }\n",
       "</style>\n",
       "<table border=\"1\" class=\"dataframe\">\n",
       "  <thead>\n",
       "    <tr style=\"text-align: right;\">\n",
       "      <th></th>\n",
       "      <th>MANUFACTURER</th>\n",
       "      <th>DEPARTMENT</th>\n",
       "      <th>BRAND</th>\n",
       "      <th>COMMODITY_DESC</th>\n",
       "      <th>SUB_COMMODITY_DESC</th>\n",
       "      <th>CURR_SIZE_OF_PRODUCT</th>\n",
       "      <th>Target</th>\n",
       "    </tr>\n",
       "    <tr>\n",
       "      <th>PRODUCT_ID</th>\n",
       "      <th></th>\n",
       "      <th></th>\n",
       "      <th></th>\n",
       "      <th></th>\n",
       "      <th></th>\n",
       "      <th></th>\n",
       "      <th></th>\n",
       "    </tr>\n",
       "  </thead>\n",
       "  <tbody>\n",
       "    <tr>\n",
       "      <th>25671</th>\n",
       "      <td>2</td>\n",
       "      <td>GROCERY</td>\n",
       "      <td>National</td>\n",
       "      <td>FRZN ICE</td>\n",
       "      <td>ICE - CRUSHED/CUBED</td>\n",
       "      <td>22 LB</td>\n",
       "      <td>0.0</td>\n",
       "    </tr>\n",
       "    <tr>\n",
       "      <th>26081</th>\n",
       "      <td>2</td>\n",
       "      <td>MISC. TRANS.</td>\n",
       "      <td>National</td>\n",
       "      <td>NO COMMODITY DESCRIPTION</td>\n",
       "      <td>NO SUBCOMMODITY DESCRIPTION</td>\n",
       "      <td></td>\n",
       "      <td>NaN</td>\n",
       "    </tr>\n",
       "  </tbody>\n",
       "</table>\n",
       "</div>"
      ],
      "text/plain": [
       "           MANUFACTURER    DEPARTMENT     BRAND            COMMODITY_DESC  \\\n",
       "PRODUCT_ID                                                                  \n",
       "25671                 2       GROCERY  National                  FRZN ICE   \n",
       "26081                 2  MISC. TRANS.  National  NO COMMODITY DESCRIPTION   \n",
       "\n",
       "                     SUB_COMMODITY_DESC CURR_SIZE_OF_PRODUCT  Target  \n",
       "PRODUCT_ID                                                            \n",
       "25671               ICE - CRUSHED/CUBED                22 LB     0.0  \n",
       "26081       NO SUBCOMMODITY DESCRIPTION                          NaN  "
      ]
     },
     "execution_count": 16,
     "metadata": {},
     "output_type": "execute_result"
    }
   ],
   "source": [
    "d=product.copy()\n",
    "d.set_index('PRODUCT_ID',inplace=True)\n",
    "d.head(2)"
   ]
  },
  {
   "cell_type": "code",
   "execution_count": 17,
   "id": "5164f154",
   "metadata": {},
   "outputs": [],
   "source": [
    "catcol=d.select_dtypes('object').columns\n",
    "numcol=d.select_dtypes(np.number).columns"
   ]
  },
  {
   "cell_type": "code",
   "execution_count": 18,
   "id": "b22e66c3",
   "metadata": {},
   "outputs": [],
   "source": [
    "# Feature Engineering..\n",
    "# unique count of households that has purchased that particular product over the span of 2 years.\n",
    "d['num_hsld_prch_prd']=transaction_data.groupby('PRODUCT_ID')['household_key'].nunique()\n",
    "\n",
    "# unique count of stores that sells that particlar products.\n",
    "d['num_stores_has_prd']=transaction_data.groupby('PRODUCT_ID')['STORE_ID'].nunique()\n",
    "\n",
    "# count of products sold during the span of 2 years.\n",
    "d['quantity_sold_total']=transaction_data.groupby('PRODUCT_ID')['QUANTITY'].sum()"
   ]
  },
  {
   "cell_type": "code",
   "execution_count": 19,
   "id": "7ce8a201",
   "metadata": {},
   "outputs": [
    {
     "data": {
      "text/plain": [
       "MANUFACTURER                0\n",
       "DEPARTMENT                  0\n",
       "BRAND                       0\n",
       "COMMODITY_DESC              0\n",
       "SUB_COMMODITY_DESC          0\n",
       "CURR_SIZE_OF_PRODUCT        0\n",
       "Target                  48220\n",
       "num_hsld_prch_prd         448\n",
       "num_stores_has_prd        448\n",
       "quantity_sold_total       448\n",
       "dtype: int64"
      ]
     },
     "execution_count": 19,
     "metadata": {},
     "output_type": "execute_result"
    }
   ],
   "source": [
    "d.isnull().sum()"
   ]
  },
  {
   "cell_type": "code",
   "execution_count": 20,
   "id": "ebb9808d",
   "metadata": {},
   "outputs": [
    {
     "data": {
      "text/plain": [
       "448"
      ]
     },
     "execution_count": 20,
     "metadata": {},
     "output_type": "execute_result"
    }
   ],
   "source": [
    "product.PRODUCT_ID.nunique()-transaction_data.PRODUCT_ID.nunique()\n",
    "# Some products were never purchased.. => to be removed."
   ]
  },
  {
   "cell_type": "code",
   "execution_count": 21,
   "id": "d5eece97",
   "metadata": {},
   "outputs": [],
   "source": [
    "# triming those unpurchased products.\n",
    "d=d.loc[sorted(transaction_data.PRODUCT_ID.unique())]"
   ]
  },
  {
   "cell_type": "code",
   "execution_count": 22,
   "id": "d70a916e",
   "metadata": {},
   "outputs": [
    {
     "data": {
      "text/html": [
       "<div>\n",
       "<style scoped>\n",
       "    .dataframe tbody tr th:only-of-type {\n",
       "        vertical-align: middle;\n",
       "    }\n",
       "\n",
       "    .dataframe tbody tr th {\n",
       "        vertical-align: top;\n",
       "    }\n",
       "\n",
       "    .dataframe thead th {\n",
       "        text-align: right;\n",
       "    }\n",
       "</style>\n",
       "<table border=\"1\" class=\"dataframe\">\n",
       "  <thead>\n",
       "    <tr style=\"text-align: right;\">\n",
       "      <th></th>\n",
       "      <th>Feature_Created</th>\n",
       "      <th>Description</th>\n",
       "    </tr>\n",
       "  </thead>\n",
       "  <tbody>\n",
       "    <tr>\n",
       "      <th>0</th>\n",
       "      <td>num_hsld_prch_prd</td>\n",
       "      <td>Unique count of households that has purchased ...</td>\n",
       "    </tr>\n",
       "    <tr>\n",
       "      <th>1</th>\n",
       "      <td>num_stores_has_prd</td>\n",
       "      <td>Unique count of stores that sells that particl...</td>\n",
       "    </tr>\n",
       "    <tr>\n",
       "      <th>2</th>\n",
       "      <td>quantity_sold_total</td>\n",
       "      <td>Count of that perticular products sold during ...</td>\n",
       "    </tr>\n",
       "  </tbody>\n",
       "</table>\n",
       "</div>"
      ],
      "text/plain": [
       "       Feature_Created                                        Description\n",
       "0    num_hsld_prch_prd  Unique count of households that has purchased ...\n",
       "1   num_stores_has_prd  Unique count of stores that sells that particl...\n",
       "2  quantity_sold_total  Count of that perticular products sold during ..."
      ]
     },
     "execution_count": 22,
     "metadata": {},
     "output_type": "execute_result"
    }
   ],
   "source": [
    "fe=[]\n",
    "for i in d.columns:\n",
    "    if i not in product.columns:\n",
    "        fe.append(i)\n",
    "fe\n",
    "pd.DataFrame({'Feature_Created':fe,'Description':['Unique count of households that has purchased that particular product over the span of 2 years',\n",
    "                                                 'Unique count of stores that sells that particlar product',\n",
    "                                                 'Count of that perticular products sold during the span of 2 years']})"
   ]
  },
  {
   "cell_type": "markdown",
   "id": "f3972f00",
   "metadata": {},
   "source": [
    "# Statistics"
   ]
  },
  {
   "cell_type": "code",
   "execution_count": 23,
   "id": "f9ebfbf6",
   "metadata": {},
   "outputs": [
    {
     "name": "stdout",
     "output_type": "stream",
     "text": [
      "MANUFACTURER : 0.0\n",
      "DEPARTMENT : 0.0\n",
      "BRAND : 4.249617475100515e-168\n",
      "COMMODITY_DESC : 0.0\n",
      "SUB_COMMODITY_DESC : 0.0\n",
      "CURR_SIZE_OF_PRODUCT : 5.7140933727928e-281\n"
     ]
    }
   ],
   "source": [
    "# statistical approval for categorical columns.\n",
    "for i in d.select_dtypes('object').columns:\n",
    "    tbl=pd.crosstab(d[i],d.Target)\n",
    "    # Ho: has no effect, Target variable is independent of the respected column.\n",
    "    # Ha: has an effect, Target variable is dependant on the respected column.\n",
    "    ts,p,_,_=stats.chi2_contingency(tbl)\n",
    "    print(i,':',p)"
   ]
  },
  {
   "cell_type": "code",
   "execution_count": 24,
   "id": "e0dc4a93",
   "metadata": {},
   "outputs": [
    {
     "name": "stdout",
     "output_type": "stream",
     "text": [
      "num_hsld_prch_prd : 0.0\n",
      "num_stores_has_prd : 0.0\n",
      "quantity_sold_total : 0.0\n"
     ]
    }
   ],
   "source": [
    "# statistical approval for numerical columns.\n",
    "for i in d.select_dtypes(np.number).columns[1:]:\n",
    "    zero=d.loc[d.Target==0,i]\n",
    "    ones=d.loc[d.Target==1,i]\n",
    "    # Ho: Data is normal\n",
    "    # Ha: Data not normal\n",
    "    p1=stats.shapiro(zero)[1]\n",
    "    p2=stats.shapiro(ones)[1]\n",
    "    if (p1<0.05)&(p2<0.05):\n",
    "        # Ho: (has no effect) => Target variable is independent of the respected column.\n",
    "        # Ha: (has an effect) => Target variable is dependant on the respected column.\n",
    "        print(i,':',stats.mannwhitneyu(zero,ones)[1])\n",
    "    else:\n",
    "        # Ho: (has no effect) => Target variable is independent of the respected column.\n",
    "        # Ha: (has an effect) => Target variable is dependant on the respected column.\n",
    "        print(i,':',stats.ttest_ind(zero,ones)[1])"
   ]
  },
  {
   "cell_type": "code",
   "execution_count": 25,
   "id": "954ffacb",
   "metadata": {},
   "outputs": [
    {
     "data": {
      "image/png": "[encoded data removed]",
      "text/plain": [
       "<Figure size 1000x400 with 2 Axes>"
      ]
     },
     "metadata": {},
     "output_type": "display_data"
    }
   ],
   "source": [
    "plt.figure(figsize=(10,4))\n",
    "sns.heatmap(d.corr(),annot=True,vmin=-1,vmax=+1)\n",
    "plt.show()"
   ]
  },
  {
   "cell_type": "markdown",
   "id": "1861e442",
   "metadata": {},
   "source": [
    "#  Encoding ~ trail 1 => Target Encoding"
   ]
  },
  {
   "cell_type": "code",
   "execution_count": 26,
   "id": "6b87a3bf",
   "metadata": {},
   "outputs": [],
   "source": [
    "df1=d.copy()\n",
    "from category_encoders import TargetEncoder\n",
    "te=TargetEncoder()\n",
    "for i in df1.select_dtypes('object').columns:\n",
    "    df1[i]=te.fit_transform(df1[i],df1.Target)"
   ]
  },
  {
   "cell_type": "code",
   "execution_count": 27,
   "id": "fef1065e",
   "metadata": {},
   "outputs": [
    {
     "data": {
      "text/html": [
       "<div>\n",
       "<style scoped>\n",
       "    .dataframe tbody tr th:only-of-type {\n",
       "        vertical-align: middle;\n",
       "    }\n",
       "\n",
       "    .dataframe tbody tr th {\n",
       "        vertical-align: top;\n",
       "    }\n",
       "\n",
       "    .dataframe thead th {\n",
       "        text-align: right;\n",
       "    }\n",
       "</style>\n",
       "<table border=\"1\" class=\"dataframe\">\n",
       "  <thead>\n",
       "    <tr style=\"text-align: right;\">\n",
       "      <th></th>\n",
       "      <th>MANUFACTURER</th>\n",
       "      <th>DEPARTMENT</th>\n",
       "      <th>BRAND</th>\n",
       "      <th>COMMODITY_DESC</th>\n",
       "      <th>SUB_COMMODITY_DESC</th>\n",
       "      <th>CURR_SIZE_OF_PRODUCT</th>\n",
       "      <th>Target</th>\n",
       "      <th>num_hsld_prch_prd</th>\n",
       "      <th>num_stores_has_prd</th>\n",
       "      <th>quantity_sold_total</th>\n",
       "    </tr>\n",
       "    <tr>\n",
       "      <th>PRODUCT_ID</th>\n",
       "      <th></th>\n",
       "      <th></th>\n",
       "      <th></th>\n",
       "      <th></th>\n",
       "      <th></th>\n",
       "      <th></th>\n",
       "      <th></th>\n",
       "      <th></th>\n",
       "      <th></th>\n",
       "      <th></th>\n",
       "    </tr>\n",
       "  </thead>\n",
       "  <tbody>\n",
       "    <tr>\n",
       "      <th>25671</th>\n",
       "      <td>0.000000</td>\n",
       "      <td>0.222738</td>\n",
       "      <td>0.158725</td>\n",
       "      <td>0.043315</td>\n",
       "      <td>0.043315</td>\n",
       "      <td>0.122234</td>\n",
       "      <td>0.0</td>\n",
       "      <td>3.0</td>\n",
       "      <td>3.0</td>\n",
       "      <td>6.0</td>\n",
       "    </tr>\n",
       "    <tr>\n",
       "      <th>26081</th>\n",
       "      <td>0.000000</td>\n",
       "      <td>0.010966</td>\n",
       "      <td>0.158725</td>\n",
       "      <td>0.010966</td>\n",
       "      <td>0.013410</td>\n",
       "      <td>0.059819</td>\n",
       "      <td>NaN</td>\n",
       "      <td>1.0</td>\n",
       "      <td>1.0</td>\n",
       "      <td>1.0</td>\n",
       "    </tr>\n",
       "    <tr>\n",
       "      <th>26093</th>\n",
       "      <td>0.030415</td>\n",
       "      <td>0.057695</td>\n",
       "      <td>0.029666</td>\n",
       "      <td>0.096398</td>\n",
       "      <td>0.119894</td>\n",
       "      <td>0.059819</td>\n",
       "      <td>NaN</td>\n",
       "      <td>1.0</td>\n",
       "      <td>1.0</td>\n",
       "      <td>1.0</td>\n",
       "    </tr>\n",
       "    <tr>\n",
       "      <th>26190</th>\n",
       "      <td>0.030415</td>\n",
       "      <td>0.222738</td>\n",
       "      <td>0.029666</td>\n",
       "      <td>0.129730</td>\n",
       "      <td>0.096398</td>\n",
       "      <td>0.151846</td>\n",
       "      <td>0.0</td>\n",
       "      <td>1.0</td>\n",
       "      <td>1.0</td>\n",
       "      <td>1.0</td>\n",
       "    </tr>\n",
       "    <tr>\n",
       "      <th>26355</th>\n",
       "      <td>0.030415</td>\n",
       "      <td>0.222738</td>\n",
       "      <td>0.029666</td>\n",
       "      <td>0.262626</td>\n",
       "      <td>0.170981</td>\n",
       "      <td>0.184874</td>\n",
       "      <td>NaN</td>\n",
       "      <td>1.0</td>\n",
       "      <td>1.0</td>\n",
       "      <td>2.0</td>\n",
       "    </tr>\n",
       "    <tr>\n",
       "      <th>...</th>\n",
       "      <td>...</td>\n",
       "      <td>...</td>\n",
       "      <td>...</td>\n",
       "      <td>...</td>\n",
       "      <td>...</td>\n",
       "      <td>...</td>\n",
       "      <td>...</td>\n",
       "      <td>...</td>\n",
       "      <td>...</td>\n",
       "      <td>...</td>\n",
       "    </tr>\n",
       "    <tr>\n",
       "      <th>18293142</th>\n",
       "      <td>NaN</td>\n",
       "      <td>0.124915</td>\n",
       "      <td>0.158725</td>\n",
       "      <td>0.121535</td>\n",
       "      <td>NaN</td>\n",
       "      <td>0.059819</td>\n",
       "      <td>NaN</td>\n",
       "      <td>1.0</td>\n",
       "      <td>1.0</td>\n",
       "      <td>1.0</td>\n",
       "    </tr>\n",
       "    <tr>\n",
       "      <th>18293439</th>\n",
       "      <td>NaN</td>\n",
       "      <td>0.124915</td>\n",
       "      <td>0.158725</td>\n",
       "      <td>0.121535</td>\n",
       "      <td>NaN</td>\n",
       "      <td>0.059819</td>\n",
       "      <td>NaN</td>\n",
       "      <td>1.0</td>\n",
       "      <td>1.0</td>\n",
       "      <td>1.0</td>\n",
       "    </tr>\n",
       "    <tr>\n",
       "      <th>18293696</th>\n",
       "      <td>NaN</td>\n",
       "      <td>0.124915</td>\n",
       "      <td>0.158725</td>\n",
       "      <td>0.121535</td>\n",
       "      <td>NaN</td>\n",
       "      <td>0.059819</td>\n",
       "      <td>NaN</td>\n",
       "      <td>1.0</td>\n",
       "      <td>1.0</td>\n",
       "      <td>1.0</td>\n",
       "    </tr>\n",
       "    <tr>\n",
       "      <th>18294080</th>\n",
       "      <td>NaN</td>\n",
       "      <td>0.124915</td>\n",
       "      <td>0.158725</td>\n",
       "      <td>0.121535</td>\n",
       "      <td>NaN</td>\n",
       "      <td>0.059819</td>\n",
       "      <td>NaN</td>\n",
       "      <td>1.0</td>\n",
       "      <td>1.0</td>\n",
       "      <td>1.0</td>\n",
       "    </tr>\n",
       "    <tr>\n",
       "      <th>18316298</th>\n",
       "      <td>0.446210</td>\n",
       "      <td>0.222738</td>\n",
       "      <td>0.158725</td>\n",
       "      <td>0.306224</td>\n",
       "      <td>0.306224</td>\n",
       "      <td>0.059819</td>\n",
       "      <td>NaN</td>\n",
       "      <td>1.0</td>\n",
       "      <td>1.0</td>\n",
       "      <td>1.0</td>\n",
       "    </tr>\n",
       "  </tbody>\n",
       "</table>\n",
       "<p>91905 rows × 10 columns</p>\n",
       "</div>"
      ],
      "text/plain": [
       "            MANUFACTURER  DEPARTMENT     BRAND  COMMODITY_DESC  \\\n",
       "PRODUCT_ID                                                       \n",
       "25671           0.000000    0.222738  0.158725        0.043315   \n",
       "26081           0.000000    0.010966  0.158725        0.010966   \n",
       "26093           0.030415    0.057695  0.029666        0.096398   \n",
       "26190           0.030415    0.222738  0.029666        0.129730   \n",
       "26355           0.030415    0.222738  0.029666        0.262626   \n",
       "...                  ...         ...       ...             ...   \n",
       "18293142             NaN    0.124915  0.158725        0.121535   \n",
       "18293439             NaN    0.124915  0.158725        0.121535   \n",
       "18293696             NaN    0.124915  0.158725        0.121535   \n",
       "18294080             NaN    0.124915  0.158725        0.121535   \n",
       "18316298        0.446210    0.222738  0.158725        0.306224   \n",
       "\n",
       "            SUB_COMMODITY_DESC  CURR_SIZE_OF_PRODUCT  Target  \\\n",
       "PRODUCT_ID                                                     \n",
       "25671                 0.043315              0.122234     0.0   \n",
       "26081                 0.013410              0.059819     NaN   \n",
       "26093                 0.119894              0.059819     NaN   \n",
       "26190                 0.096398              0.151846     0.0   \n",
       "26355                 0.170981              0.184874     NaN   \n",
       "...                        ...                   ...     ...   \n",
       "18293142                   NaN              0.059819     NaN   \n",
       "18293439                   NaN              0.059819     NaN   \n",
       "18293696                   NaN              0.059819     NaN   \n",
       "18294080                   NaN              0.059819     NaN   \n",
       "18316298              0.306224              0.059819     NaN   \n",
       "\n",
       "            num_hsld_prch_prd  num_stores_has_prd  quantity_sold_total  \n",
       "PRODUCT_ID                                                              \n",
       "25671                     3.0                 3.0                  6.0  \n",
       "26081                     1.0                 1.0                  1.0  \n",
       "26093                     1.0                 1.0                  1.0  \n",
       "26190                     1.0                 1.0                  1.0  \n",
       "26355                     1.0                 1.0                  2.0  \n",
       "...                       ...                 ...                  ...  \n",
       "18293142                  1.0                 1.0                  1.0  \n",
       "18293439                  1.0                 1.0                  1.0  \n",
       "18293696                  1.0                 1.0                  1.0  \n",
       "18294080                  1.0                 1.0                  1.0  \n",
       "18316298                  1.0                 1.0                  1.0  \n",
       "\n",
       "[91905 rows x 10 columns]"
      ]
     },
     "execution_count": 27,
     "metadata": {},
     "output_type": "execute_result"
    }
   ],
   "source": [
    "df1 "
   ]
  },
  {
   "cell_type": "code",
   "execution_count": 28,
   "id": "7105c73e",
   "metadata": {},
   "outputs": [
    {
     "data": {
      "text/html": [
       "<div>\n",
       "<style scoped>\n",
       "    .dataframe tbody tr th:only-of-type {\n",
       "        vertical-align: middle;\n",
       "    }\n",
       "\n",
       "    .dataframe tbody tr th {\n",
       "        vertical-align: top;\n",
       "    }\n",
       "\n",
       "    .dataframe thead th {\n",
       "        text-align: right;\n",
       "    }\n",
       "</style>\n",
       "<table border=\"1\" class=\"dataframe\">\n",
       "  <thead>\n",
       "    <tr style=\"text-align: right;\">\n",
       "      <th></th>\n",
       "      <th>PRODUCT_ID</th>\n",
       "      <th>MANUFACTURER</th>\n",
       "      <th>DEPARTMENT</th>\n",
       "      <th>BRAND</th>\n",
       "      <th>COMMODITY_DESC</th>\n",
       "      <th>SUB_COMMODITY_DESC</th>\n",
       "      <th>CURR_SIZE_OF_PRODUCT</th>\n",
       "      <th>Target</th>\n",
       "    </tr>\n",
       "  </thead>\n",
       "  <tbody>\n",
       "    <tr>\n",
       "      <th>92348</th>\n",
       "      <td>18293142</td>\n",
       "      <td>6384</td>\n",
       "      <td>DRUG GM</td>\n",
       "      <td>National</td>\n",
       "      <td>BOOKSTORE</td>\n",
       "      <td>PAPERBACK BOOKS</td>\n",
       "      <td></td>\n",
       "      <td>NaN</td>\n",
       "    </tr>\n",
       "  </tbody>\n",
       "</table>\n",
       "</div>"
      ],
      "text/plain": [
       "       PRODUCT_ID MANUFACTURER DEPARTMENT     BRAND COMMODITY_DESC  \\\n",
       "92348    18293142         6384    DRUG GM  National      BOOKSTORE   \n",
       "\n",
       "      SUB_COMMODITY_DESC CURR_SIZE_OF_PRODUCT  Target  \n",
       "92348    PAPERBACK BOOKS                          NaN  "
      ]
     },
     "execution_count": 28,
     "metadata": {},
     "output_type": "execute_result"
    }
   ],
   "source": [
    "product[product.PRODUCT_ID==18293142]"
   ]
  },
  {
   "cell_type": "code",
   "execution_count": 29,
   "id": "fe8cf571",
   "metadata": {
    "scrolled": false
   },
   "outputs": [
    {
     "data": {
      "text/html": [
       "<div>\n",
       "<style scoped>\n",
       "    .dataframe tbody tr th:only-of-type {\n",
       "        vertical-align: middle;\n",
       "    }\n",
       "\n",
       "    .dataframe tbody tr th {\n",
       "        vertical-align: top;\n",
       "    }\n",
       "\n",
       "    .dataframe thead th {\n",
       "        text-align: right;\n",
       "    }\n",
       "</style>\n",
       "<table border=\"1\" class=\"dataframe\">\n",
       "  <thead>\n",
       "    <tr style=\"text-align: right;\">\n",
       "      <th></th>\n",
       "      <th>PRODUCT_ID</th>\n",
       "      <th>MANUFACTURER</th>\n",
       "      <th>DEPARTMENT</th>\n",
       "      <th>BRAND</th>\n",
       "      <th>COMMODITY_DESC</th>\n",
       "      <th>SUB_COMMODITY_DESC</th>\n",
       "      <th>CURR_SIZE_OF_PRODUCT</th>\n",
       "      <th>Target</th>\n",
       "    </tr>\n",
       "  </thead>\n",
       "  <tbody>\n",
       "    <tr>\n",
       "      <th>87792</th>\n",
       "      <td>15713880</td>\n",
       "      <td>6384</td>\n",
       "      <td>DRUG GM</td>\n",
       "      <td>National</td>\n",
       "      <td>BOOKSTORE</td>\n",
       "      <td>HARDBACK/TRADE EVERYDAY</td>\n",
       "      <td></td>\n",
       "      <td>NaN</td>\n",
       "    </tr>\n",
       "    <tr>\n",
       "      <th>90293</th>\n",
       "      <td>16730517</td>\n",
       "      <td>6384</td>\n",
       "      <td>DRUG GM</td>\n",
       "      <td>National</td>\n",
       "      <td>BOOKSTORE</td>\n",
       "      <td>PAPERBACK BOOKS</td>\n",
       "      <td></td>\n",
       "      <td>NaN</td>\n",
       "    </tr>\n",
       "    <tr>\n",
       "      <th>90294</th>\n",
       "      <td>16730519</td>\n",
       "      <td>6384</td>\n",
       "      <td>DRUG GM</td>\n",
       "      <td>National</td>\n",
       "      <td>BOOKSTORE</td>\n",
       "      <td>PAPERBACK BOOKS</td>\n",
       "      <td></td>\n",
       "      <td>NaN</td>\n",
       "    </tr>\n",
       "    <tr>\n",
       "      <th>90459</th>\n",
       "      <td>16767493</td>\n",
       "      <td>6384</td>\n",
       "      <td>DRUG GM</td>\n",
       "      <td>National</td>\n",
       "      <td>BOOKSTORE</td>\n",
       "      <td>PAPERBACK BOOKS</td>\n",
       "      <td></td>\n",
       "      <td>NaN</td>\n",
       "    </tr>\n",
       "    <tr>\n",
       "      <th>91701</th>\n",
       "      <td>17829468</td>\n",
       "      <td>6384</td>\n",
       "      <td>DRUG GM</td>\n",
       "      <td>National</td>\n",
       "      <td>BOOKSTORE</td>\n",
       "      <td>HARDBACK/TRADE EVERYDAY</td>\n",
       "      <td></td>\n",
       "      <td>NaN</td>\n",
       "    </tr>\n",
       "    <tr>\n",
       "      <th>92297</th>\n",
       "      <td>18183625</td>\n",
       "      <td>6384</td>\n",
       "      <td>DRUG GM</td>\n",
       "      <td>National</td>\n",
       "      <td>BOOKSTORE</td>\n",
       "      <td>HARDBACK/TRADE BEST SELLER</td>\n",
       "      <td></td>\n",
       "      <td>NaN</td>\n",
       "    </tr>\n",
       "    <tr>\n",
       "      <th>92348</th>\n",
       "      <td>18293142</td>\n",
       "      <td>6384</td>\n",
       "      <td>DRUG GM</td>\n",
       "      <td>National</td>\n",
       "      <td>BOOKSTORE</td>\n",
       "      <td>PAPERBACK BOOKS</td>\n",
       "      <td></td>\n",
       "      <td>NaN</td>\n",
       "    </tr>\n",
       "  </tbody>\n",
       "</table>\n",
       "</div>"
      ],
      "text/plain": [
       "       PRODUCT_ID MANUFACTURER DEPARTMENT     BRAND COMMODITY_DESC  \\\n",
       "87792    15713880         6384    DRUG GM  National      BOOKSTORE   \n",
       "90293    16730517         6384    DRUG GM  National      BOOKSTORE   \n",
       "90294    16730519         6384    DRUG GM  National      BOOKSTORE   \n",
       "90459    16767493         6384    DRUG GM  National      BOOKSTORE   \n",
       "91701    17829468         6384    DRUG GM  National      BOOKSTORE   \n",
       "92297    18183625         6384    DRUG GM  National      BOOKSTORE   \n",
       "92348    18293142         6384    DRUG GM  National      BOOKSTORE   \n",
       "\n",
       "               SUB_COMMODITY_DESC CURR_SIZE_OF_PRODUCT  Target  \n",
       "87792     HARDBACK/TRADE EVERYDAY                          NaN  \n",
       "90293             PAPERBACK BOOKS                          NaN  \n",
       "90294             PAPERBACK BOOKS                          NaN  \n",
       "90459             PAPERBACK BOOKS                          NaN  \n",
       "91701     HARDBACK/TRADE EVERYDAY                          NaN  \n",
       "92297  HARDBACK/TRADE BEST SELLER                          NaN  \n",
       "92348             PAPERBACK BOOKS                          NaN  "
      ]
     },
     "execution_count": 29,
     "metadata": {},
     "output_type": "execute_result"
    }
   ],
   "source": [
    "product[product.MANUFACTURER==6384]"
   ]
  },
  {
   "cell_type": "code",
   "execution_count": 30,
   "id": "1bd0be55",
   "metadata": {},
   "outputs": [],
   "source": [
    "# why NAN in Manufacture ?????  => those manufactures came into picture for the first time in the test data itself.\n",
    "# reason might be same for SUB_COMMODITY_DESC as well.. ???"
   ]
  },
  {
   "cell_type": "code",
   "execution_count": 31,
   "id": "44ff5bab",
   "metadata": {},
   "outputs": [
    {
     "data": {
      "image/png": "[encoded data removed]",
      "text/plain": [
       "<Figure size 1000x400 with 2 Axes>"
      ]
     },
     "metadata": {},
     "output_type": "display_data"
    }
   ],
   "source": [
    "# Lets check for the dependancy of the predictors on target variable.\n",
    "plt.figure(figsize=(10,4))\n",
    "sns.heatmap(df1.corr(),annot=True,vmin=-1,vmax=+1)\n",
    "plt.show()"
   ]
  },
  {
   "cell_type": "code",
   "execution_count": 32,
   "id": "b208a8d4",
   "metadata": {},
   "outputs": [
    {
     "data": {
      "text/plain": [
       "MANUFACTURER            float64\n",
       "DEPARTMENT              float64\n",
       "BRAND                   float64\n",
       "COMMODITY_DESC          float64\n",
       "SUB_COMMODITY_DESC      float64\n",
       "CURR_SIZE_OF_PRODUCT    float64\n",
       "Target                  float64\n",
       "num_hsld_prch_prd       float64\n",
       "num_stores_has_prd      float64\n",
       "quantity_sold_total     float64\n",
       "dtype: object"
      ]
     },
     "execution_count": 32,
     "metadata": {},
     "output_type": "execute_result"
    }
   ],
   "source": [
    "df1.dtypes"
   ]
  },
  {
   "cell_type": "code",
   "execution_count": 33,
   "id": "9a3310a7",
   "metadata": {},
   "outputs": [],
   "source": [
    "# checking for correlation with the tgt..\n",
    "train_df1=df1[df1.Target.notna()]\n",
    "test_df1=df1[df1.Target.isnull()]"
   ]
  },
  {
   "cell_type": "code",
   "execution_count": 34,
   "id": "fa26318e",
   "metadata": {},
   "outputs": [
    {
     "data": {
      "image/png": "[encoded data removed]",
      "text/plain": [
       "<Figure size 1000x400 with 2 Axes>"
      ]
     },
     "metadata": {},
     "output_type": "display_data"
    }
   ],
   "source": [
    "# correlation plot..\n",
    "plt.figure(figsize=(10,4))\n",
    "sns.heatmap(train_df1.corr(),annot=True,vmin=-1,vmax=+1)\n",
    "plt.show()"
   ]
  },
  {
   "cell_type": "code",
   "execution_count": 35,
   "id": "1944ca8c",
   "metadata": {},
   "outputs": [],
   "source": [
    "# splitting into train and test..\n",
    "xtrain_df1=train_df1.drop(columns='Target')\n",
    "ytrain_df1=train_df1.Target\n",
    "xtest_df1=test_df1.drop(columns='Target')"
   ]
  },
  {
   "cell_type": "code",
   "execution_count": 36,
   "id": "a81b23f7",
   "metadata": {},
   "outputs": [
    {
     "data": {
      "text/html": [
       "<div>\n",
       "<style scoped>\n",
       "    .dataframe tbody tr th:only-of-type {\n",
       "        vertical-align: middle;\n",
       "    }\n",
       "\n",
       "    .dataframe tbody tr th {\n",
       "        vertical-align: top;\n",
       "    }\n",
       "\n",
       "    .dataframe thead th {\n",
       "        text-align: right;\n",
       "    }\n",
       "</style>\n",
       "<table border=\"1\" class=\"dataframe\">\n",
       "  <thead>\n",
       "    <tr style=\"text-align: right;\">\n",
       "      <th></th>\n",
       "      <th>MANUFACTURER</th>\n",
       "      <th>DEPARTMENT</th>\n",
       "      <th>BRAND</th>\n",
       "      <th>COMMODITY_DESC</th>\n",
       "      <th>SUB_COMMODITY_DESC</th>\n",
       "      <th>CURR_SIZE_OF_PRODUCT</th>\n",
       "      <th>num_hsld_prch_prd</th>\n",
       "      <th>num_stores_has_prd</th>\n",
       "      <th>quantity_sold_total</th>\n",
       "    </tr>\n",
       "    <tr>\n",
       "      <th>PRODUCT_ID</th>\n",
       "      <th></th>\n",
       "      <th></th>\n",
       "      <th></th>\n",
       "      <th></th>\n",
       "      <th></th>\n",
       "      <th></th>\n",
       "      <th></th>\n",
       "      <th></th>\n",
       "      <th></th>\n",
       "    </tr>\n",
       "  </thead>\n",
       "  <tbody>\n",
       "    <tr>\n",
       "      <th>25671</th>\n",
       "      <td>0.000000</td>\n",
       "      <td>0.222738</td>\n",
       "      <td>0.158725</td>\n",
       "      <td>0.043315</td>\n",
       "      <td>0.043315</td>\n",
       "      <td>0.122234</td>\n",
       "      <td>3.0</td>\n",
       "      <td>3.0</td>\n",
       "      <td>6.0</td>\n",
       "    </tr>\n",
       "    <tr>\n",
       "      <th>26190</th>\n",
       "      <td>0.030415</td>\n",
       "      <td>0.222738</td>\n",
       "      <td>0.029666</td>\n",
       "      <td>0.129730</td>\n",
       "      <td>0.096398</td>\n",
       "      <td>0.151846</td>\n",
       "      <td>1.0</td>\n",
       "      <td>1.0</td>\n",
       "      <td>1.0</td>\n",
       "    </tr>\n",
       "    <tr>\n",
       "      <th>26601</th>\n",
       "      <td>0.030415</td>\n",
       "      <td>0.124915</td>\n",
       "      <td>0.029666</td>\n",
       "      <td>0.098569</td>\n",
       "      <td>0.050030</td>\n",
       "      <td>0.121535</td>\n",
       "      <td>1.0</td>\n",
       "      <td>1.0</td>\n",
       "      <td>1.0</td>\n",
       "    </tr>\n",
       "    <tr>\n",
       "      <th>26738</th>\n",
       "      <td>0.030415</td>\n",
       "      <td>0.222738</td>\n",
       "      <td>0.029666</td>\n",
       "      <td>0.172626</td>\n",
       "      <td>0.018293</td>\n",
       "      <td>0.162338</td>\n",
       "      <td>1.0</td>\n",
       "      <td>1.0</td>\n",
       "      <td>1.0</td>\n",
       "    </tr>\n",
       "    <tr>\n",
       "      <th>26941</th>\n",
       "      <td>0.030415</td>\n",
       "      <td>0.222738</td>\n",
       "      <td>0.029666</td>\n",
       "      <td>0.172626</td>\n",
       "      <td>0.018293</td>\n",
       "      <td>0.162338</td>\n",
       "      <td>1.0</td>\n",
       "      <td>1.0</td>\n",
       "      <td>1.0</td>\n",
       "    </tr>\n",
       "    <tr>\n",
       "      <th>...</th>\n",
       "      <td>...</td>\n",
       "      <td>...</td>\n",
       "      <td>...</td>\n",
       "      <td>...</td>\n",
       "      <td>...</td>\n",
       "      <td>...</td>\n",
       "      <td>...</td>\n",
       "      <td>...</td>\n",
       "      <td>...</td>\n",
       "    </tr>\n",
       "    <tr>\n",
       "      <th>18056453</th>\n",
       "      <td>0.116244</td>\n",
       "      <td>0.042952</td>\n",
       "      <td>0.158725</td>\n",
       "      <td>0.078313</td>\n",
       "      <td>0.056264</td>\n",
       "      <td>0.116244</td>\n",
       "      <td>7.0</td>\n",
       "      <td>7.0</td>\n",
       "      <td>12.0</td>\n",
       "    </tr>\n",
       "    <tr>\n",
       "      <th>18104791</th>\n",
       "      <td>0.116244</td>\n",
       "      <td>0.002220</td>\n",
       "      <td>0.158725</td>\n",
       "      <td>0.006601</td>\n",
       "      <td>0.093354</td>\n",
       "      <td>0.119894</td>\n",
       "      <td>1.0</td>\n",
       "      <td>1.0</td>\n",
       "      <td>1.0</td>\n",
       "    </tr>\n",
       "    <tr>\n",
       "      <th>18105264</th>\n",
       "      <td>0.069856</td>\n",
       "      <td>0.050717</td>\n",
       "      <td>0.158725</td>\n",
       "      <td>0.000031</td>\n",
       "      <td>0.080257</td>\n",
       "      <td>0.059456</td>\n",
       "      <td>12.0</td>\n",
       "      <td>11.0</td>\n",
       "      <td>13.0</td>\n",
       "    </tr>\n",
       "    <tr>\n",
       "      <th>18122531</th>\n",
       "      <td>0.272981</td>\n",
       "      <td>0.124915</td>\n",
       "      <td>0.158725</td>\n",
       "      <td>0.130586</td>\n",
       "      <td>0.099715</td>\n",
       "      <td>0.414382</td>\n",
       "      <td>1.0</td>\n",
       "      <td>1.0</td>\n",
       "      <td>1.0</td>\n",
       "    </tr>\n",
       "    <tr>\n",
       "      <th>18148540</th>\n",
       "      <td>0.109948</td>\n",
       "      <td>0.222738</td>\n",
       "      <td>0.158725</td>\n",
       "      <td>0.154195</td>\n",
       "      <td>0.167883</td>\n",
       "      <td>0.178258</td>\n",
       "      <td>2.0</td>\n",
       "      <td>2.0</td>\n",
       "      <td>2.0</td>\n",
       "    </tr>\n",
       "  </tbody>\n",
       "</table>\n",
       "<p>43933 rows × 9 columns</p>\n",
       "</div>"
      ],
      "text/plain": [
       "            MANUFACTURER  DEPARTMENT     BRAND  COMMODITY_DESC  \\\n",
       "PRODUCT_ID                                                       \n",
       "25671           0.000000    0.222738  0.158725        0.043315   \n",
       "26190           0.030415    0.222738  0.029666        0.129730   \n",
       "26601           0.030415    0.124915  0.029666        0.098569   \n",
       "26738           0.030415    0.222738  0.029666        0.172626   \n",
       "26941           0.030415    0.222738  0.029666        0.172626   \n",
       "...                  ...         ...       ...             ...   \n",
       "18056453        0.116244    0.042952  0.158725        0.078313   \n",
       "18104791        0.116244    0.002220  0.158725        0.006601   \n",
       "18105264        0.069856    0.050717  0.158725        0.000031   \n",
       "18122531        0.272981    0.124915  0.158725        0.130586   \n",
       "18148540        0.109948    0.222738  0.158725        0.154195   \n",
       "\n",
       "            SUB_COMMODITY_DESC  CURR_SIZE_OF_PRODUCT  num_hsld_prch_prd  \\\n",
       "PRODUCT_ID                                                                \n",
       "25671                 0.043315              0.122234                3.0   \n",
       "26190                 0.096398              0.151846                1.0   \n",
       "26601                 0.050030              0.121535                1.0   \n",
       "26738                 0.018293              0.162338                1.0   \n",
       "26941                 0.018293              0.162338                1.0   \n",
       "...                        ...                   ...                ...   \n",
       "18056453              0.056264              0.116244                7.0   \n",
       "18104791              0.093354              0.119894                1.0   \n",
       "18105264              0.080257              0.059456               12.0   \n",
       "18122531              0.099715              0.414382                1.0   \n",
       "18148540              0.167883              0.178258                2.0   \n",
       "\n",
       "            num_stores_has_prd  quantity_sold_total  \n",
       "PRODUCT_ID                                           \n",
       "25671                      3.0                  6.0  \n",
       "26190                      1.0                  1.0  \n",
       "26601                      1.0                  1.0  \n",
       "26738                      1.0                  1.0  \n",
       "26941                      1.0                  1.0  \n",
       "...                        ...                  ...  \n",
       "18056453                   7.0                 12.0  \n",
       "18104791                   1.0                  1.0  \n",
       "18105264                  11.0                 13.0  \n",
       "18122531                   1.0                  1.0  \n",
       "18148540                   2.0                  2.0  \n",
       "\n",
       "[43933 rows x 9 columns]"
      ]
     },
     "execution_count": 36,
     "metadata": {},
     "output_type": "execute_result"
    }
   ],
   "source": [
    "xtrain_df1"
   ]
  },
  {
   "cell_type": "code",
   "execution_count": 37,
   "id": "515d1f4c",
   "metadata": {},
   "outputs": [
    {
     "data": {
      "text/plain": [
       "COMMODITY_DESC          9.892259\n",
       "num_hsld_prch_prd       8.379358\n",
       "SUB_COMMODITY_DESC      8.102530\n",
       "DEPARTMENT              6.753216\n",
       "CURR_SIZE_OF_PRODUCT    5.768463\n",
       "num_stores_has_prd      4.800119\n",
       "MANUFACTURER            4.079548\n",
       "BRAND                   3.910891\n",
       "quantity_sold_total     3.715860\n",
       "dtype: float64"
      ]
     },
     "execution_count": 37,
     "metadata": {},
     "output_type": "execute_result"
    }
   ],
   "source": [
    "# checking for the multicollinearity..\n",
    "pd.Series([variance_inflation_factor(xtrain_df1.values,i) for i in range(xtrain_df1.shape[1])],index=xtrain_df1.columns).sort_values(ascending=False)\n",
    "# no multi-collinearity."
   ]
  },
  {
   "cell_type": "code",
   "execution_count": null,
   "id": "c9f2adcd",
   "metadata": {},
   "outputs": [],
   "source": []
  },
  {
   "cell_type": "markdown",
   "id": "71e0e15c",
   "metadata": {},
   "source": [
    "# Encoding ~ trial 2 => pd.factorize "
   ]
  },
  {
   "cell_type": "code",
   "execution_count": 38,
   "id": "e431ecef",
   "metadata": {},
   "outputs": [],
   "source": [
    "df2=d.copy()\n",
    "for i in catcol:\n",
    "    df2[i]=pd.factorize(df2[i])[0]\n",
    "train_df2=df2[df2.Target.notna()]\n",
    "test_df2=df2[df2.Target.isnull()]\n",
    "xtrain_df2=train_df2.drop(columns='Target')\n",
    "ytrain_df2=train_df2.Target\n",
    "xtest_df2=df2[df2.Target.isnull()]"
   ]
  },
  {
   "cell_type": "code",
   "execution_count": 39,
   "id": "557b921e",
   "metadata": {
    "scrolled": true
   },
   "outputs": [
    {
     "data": {
      "text/plain": [
       "num_hsld_prch_prd       8.147133\n",
       "num_stores_has_prd      4.157982\n",
       "COMMODITY_DESC          4.059905\n",
       "quantity_sold_total     3.695387\n",
       "SUB_COMMODITY_DESC      3.674937\n",
       "DEPARTMENT              2.951013\n",
       "MANUFACTURER            1.779229\n",
       "CURR_SIZE_OF_PRODUCT    1.157503\n",
       "BRAND                   1.144365\n",
       "dtype: float64"
      ]
     },
     "execution_count": 39,
     "metadata": {},
     "output_type": "execute_result"
    }
   ],
   "source": [
    "# checking multicollinearity.\n",
    "pd.Series([variance_inflation_factor(xtrain_df2.values,i) for i in range(xtrain_df2.shape[1])],index=xtrain_df2.columns).sort_values(ascending=False)\n",
    "# no multicollinearity is there."
   ]
  },
  {
   "cell_type": "code",
   "execution_count": 40,
   "id": "2fcf4c5c",
   "metadata": {},
   "outputs": [
    {
     "data": {
      "text/plain": [
       "num_hsld_prch_prd       8.147133\n",
       "num_stores_has_prd      4.157982\n",
       "COMMODITY_DESC          4.059905\n",
       "quantity_sold_total     3.695387\n",
       "SUB_COMMODITY_DESC      3.674937\n",
       "DEPARTMENT              2.951013\n",
       "MANUFACTURER            1.779229\n",
       "CURR_SIZE_OF_PRODUCT    1.157503\n",
       "BRAND                   1.144365\n",
       "dtype: float64"
      ]
     },
     "execution_count": 40,
     "metadata": {},
     "output_type": "execute_result"
    }
   ],
   "source": [
    "#df2.drop(columns='magic2',inplace=True)\n",
    "train_df2=df2[df2.Target.notna()]\n",
    "test_df2=df2[df2.Target.isnull()]\n",
    "xtrain_df2=train_df2.drop(columns='Target')\n",
    "ytrain_df2=train_df2.Target\n",
    "xtest_df2=df2[df2.Target.isnull()]\n",
    "pd.Series([variance_inflation_factor(xtrain_df2.values,i) for i in range(xtrain_df2.shape[1])],index=xtrain_df2.columns).sort_values(ascending=False)"
   ]
  },
  {
   "cell_type": "markdown",
   "id": "ddae6252",
   "metadata": {},
   "source": [
    "# Finalizing the encoding method."
   ]
  },
  {
   "cell_type": "code",
   "execution_count": 41,
   "id": "214063e2",
   "metadata": {},
   "outputs": [
    {
     "data": {
      "text/plain": [
       "MANUFACTURER            25397\n",
       "DEPARTMENT                417\n",
       "BRAND                       0\n",
       "COMMODITY_DESC           5659\n",
       "SUB_COMMODITY_DESC      25430\n",
       "CURR_SIZE_OF_PRODUCT     5827\n",
       "Target                  47972\n",
       "num_hsld_prch_prd           0\n",
       "num_stores_has_prd          0\n",
       "quantity_sold_total         0\n",
       "dtype: int64"
      ]
     },
     "execution_count": 41,
     "metadata": {},
     "output_type": "execute_result"
    }
   ],
   "source": [
    "df1.isnull().sum()"
   ]
  },
  {
   "cell_type": "code",
   "execution_count": 42,
   "id": "3dcfe84a",
   "metadata": {},
   "outputs": [
    {
     "data": {
      "text/plain": [
       "MANUFACTURER                0\n",
       "DEPARTMENT                  0\n",
       "BRAND                       0\n",
       "COMMODITY_DESC              0\n",
       "SUB_COMMODITY_DESC          0\n",
       "CURR_SIZE_OF_PRODUCT        0\n",
       "Target                  47972\n",
       "num_hsld_prch_prd           0\n",
       "num_stores_has_prd          0\n",
       "quantity_sold_total         0\n",
       "dtype: int64"
      ]
     },
     "execution_count": 42,
     "metadata": {},
     "output_type": "execute_result"
    }
   ],
   "source": [
    "df2.isnull().sum()"
   ]
  },
  {
   "cell_type": "code",
   "execution_count": 43,
   "id": "f75c3441",
   "metadata": {},
   "outputs": [],
   "source": [
    "# df1 is rejected as it contains too many null values is the test set\n",
    "# reason => many newmanufactures, department, commodities were added lattely.\n",
    "# df2 => is thus selected. => encoding method => pd.factorize."
   ]
  },
  {
   "cell_type": "markdown",
   "id": "c0295f96",
   "metadata": {},
   "source": [
    "# Modeling"
   ]
  },
  {
   "cell_type": "code",
   "execution_count": 44,
   "id": "5451e4df",
   "metadata": {},
   "outputs": [],
   "source": [
    "# spliting the dataset into train and test.\n",
    "main_train=df2[df2.Target.notna()]\n",
    "main_test=df2[df2.Target.isnull()]\n",
    "main_test=main_test.drop(columns='Target')"
   ]
  },
  {
   "cell_type": "code",
   "execution_count": 45,
   "id": "8fef7eb2",
   "metadata": {},
   "outputs": [
    {
     "data": {
      "text/plain": [
       "(43933, 10)"
      ]
     },
     "execution_count": 45,
     "metadata": {},
     "output_type": "execute_result"
    }
   ],
   "source": [
    "# checking shape of train after splitting \n",
    "main_train.shape"
   ]
  },
  {
   "cell_type": "code",
   "execution_count": 46,
   "id": "9eea827a",
   "metadata": {
    "scrolled": true
   },
   "outputs": [
    {
     "data": {
      "text/plain": [
       "(47972, 9)"
      ]
     },
     "execution_count": 46,
     "metadata": {},
     "output_type": "execute_result"
    }
   ],
   "source": [
    "# checking shape of test after splitting \n",
    "main_test.shape"
   ]
  },
  {
   "cell_type": "code",
   "execution_count": 47,
   "id": "423492ed",
   "metadata": {},
   "outputs": [],
   "source": [
    "# further spliting\n",
    "from sklearn.model_selection import train_test_split\n",
    "X = main_train.drop(columns='Target')\n",
    "y = main_train.Target"
   ]
  },
  {
   "cell_type": "code",
   "execution_count": 48,
   "id": "9197b83f",
   "metadata": {},
   "outputs": [],
   "source": [
    "xtrain,xtest,ytrain,ytest=train_test_split(X,y,test_size=0.2,stratify=y)"
   ]
  },
  {
   "cell_type": "code",
   "execution_count": 49,
   "id": "fa443df8",
   "metadata": {},
   "outputs": [],
   "source": [
    "# importing Models..\n",
    "\n",
    "from sklearn.neighbors import KNeighborsClassifier\n",
    "from sklearn.naive_bayes import GaussianNB\n",
    "from sklearn.tree import DecisionTreeClassifier\n",
    "from sklearn.ensemble import RandomForestClassifier\n",
    "from sklearn.ensemble import AdaBoostClassifier\n",
    "from sklearn.ensemble import GradientBoostingClassifier\n",
    "from xgboost import XGBClassifier\n",
    "from catboost import CatBoostClassifier\n",
    "from lightgbm import LGBMClassifier\n",
    "from sklearn.metrics import f1_score, recall_score, precision_score, confusion_matrix, accuracy_score\n",
    "\n",
    "knn=KNeighborsClassifier()\n",
    "nb=GaussianNB()\n",
    "dt=DecisionTreeClassifier()\n",
    "rfc=RandomForestClassifier()\n",
    "ada=AdaBoostClassifier()\n",
    "gbm=GradientBoostingClassifier()\n",
    "xgb=XGBClassifier()\n",
    "cat=CatBoostClassifier()\n",
    "lgbm=LGBMClassifier()\n",
    "l=[knn,nb,dt,rfc,ada,gbm,xgb,lgbm]"
   ]
  },
  {
   "cell_type": "code",
   "execution_count": 50,
   "id": "8d3adc93",
   "metadata": {},
   "outputs": [
    {
     "data": {
      "text/plain": [
       "[KNeighborsClassifier(),\n",
       " GaussianNB(),\n",
       " DecisionTreeClassifier(),\n",
       " RandomForestClassifier(),\n",
       " AdaBoostClassifier(),\n",
       " GradientBoostingClassifier(),\n",
       " XGBClassifier(base_score=None, booster=None, callbacks=None,\n",
       "               colsample_bylevel=None, colsample_bynode=None,\n",
       "               colsample_bytree=None, early_stopping_rounds=None,\n",
       "               enable_categorical=False, eval_metric=None, feature_types=None,\n",
       "               gamma=None, gpu_id=None, grow_policy=None, importance_type=None,\n",
       "               interaction_constraints=None, learning_rate=None, max_bin=None,\n",
       "               max_cat_threshold=None, max_cat_to_onehot=None,\n",
       "               max_delta_step=None, max_depth=None, max_leaves=None,\n",
       "               min_child_weight=None, missing=nan, monotone_constraints=None,\n",
       "               n_estimators=100, n_jobs=None, num_parallel_tree=None,\n",
       "               predictor=None, random_state=None, ...),\n",
       " LGBMClassifier()]"
      ]
     },
     "execution_count": 50,
     "metadata": {},
     "output_type": "execute_result"
    }
   ],
   "source": [
    "l"
   ]
  },
  {
   "cell_type": "code",
   "execution_count": null,
   "id": "1674e5e3",
   "metadata": {},
   "outputs": [],
   "source": [
    "l1=['knn','nb','dt','rfc','ada','gbm','xgbm','lgbm']"
   ]
  },
  {
   "cell_type": "code",
   "execution_count": 51,
   "id": "f746667e",
   "metadata": {},
   "outputs": [
    {
     "name": "stdout",
     "output_type": "stream",
     "text": [
      "KNeighborsClassifier() :\n",
      "[[36741  1054]\n",
      " [ 2491  3647]]\n",
      "\n",
      "GaussianNB() :\n",
      "[[36057  1738]\n",
      " [ 3588  2550]]\n",
      "\n",
      "DecisionTreeClassifier() :\n",
      "[[37776    19]\n",
      " [  300  5838]]\n",
      "\n",
      "RandomForestClassifier() :\n",
      "[[37754    41]\n",
      " [  282  5856]]\n",
      "\n",
      "AdaBoostClassifier() :\n",
      "[[36126  1669]\n",
      " [ 2952  3186]]\n",
      "\n",
      "GradientBoostingClassifier() :\n",
      "[[36254  1541]\n",
      " [ 2738  3400]]\n",
      "\n",
      "XGBClassifier(base_score=None, booster=None, callbacks=None,\n",
      "              colsample_bylevel=None, colsample_bynode=None,\n",
      "              colsample_bytree=None, early_stopping_rounds=None,\n",
      "              enable_categorical=False, eval_metric=None, feature_types=None,\n",
      "              gamma=None, gpu_id=None, grow_policy=None, importance_type=None,\n",
      "              interaction_constraints=None, learning_rate=None, max_bin=None,\n",
      "              max_cat_threshold=None, max_cat_to_onehot=None,\n",
      "              max_delta_step=None, max_depth=None, max_leaves=None,\n",
      "              min_child_weight=None, missing=nan, monotone_constraints=None,\n",
      "              n_estimators=100, n_jobs=None, num_parallel_tree=None,\n",
      "              predictor=None, random_state=None, ...) :\n",
      "[[37006   789]\n",
      " [ 1858  4280]]\n",
      "\n",
      "LGBMClassifier() :\n",
      "[[36729  1066]\n",
      " [ 2279  3859]]\n",
      "\n"
     ]
    }
   ],
   "source": [
    "# modeling X and testing on X iself.\n",
    "dic_train=pd.DataFrame()\n",
    "j=0;\n",
    "for i in l:\n",
    "    m=i.fit(X,y)\n",
    "    pred=m.predict(X)\n",
    "    print(i,':')\n",
    "    print(confusion_matrix(y,pred))\n",
    "    dic_train.loc[j,'Model']=l1[j]\n",
    "    dic_train.loc[j,'accuracy_score']=accuracy_score(y,pred)\n",
    "    dic_train.loc[j,'f1_score']=f1_score(y,pred)\n",
    "    dic_train.loc[j,'recall_score']=recall_score(y,pred)\n",
    "    dic_train.loc[j,'precision_score']=precision_score(y,pred)\n",
    "    j+=1\n",
    "    print()"
   ]
  },
  {
   "cell_type": "code",
   "execution_count": 71,
   "id": "2419f6a7",
   "metadata": {},
   "outputs": [
    {
     "data": {
      "text/html": [
       "<div>\n",
       "<style scoped>\n",
       "    .dataframe tbody tr th:only-of-type {\n",
       "        vertical-align: middle;\n",
       "    }\n",
       "\n",
       "    .dataframe tbody tr th {\n",
       "        vertical-align: top;\n",
       "    }\n",
       "\n",
       "    .dataframe thead th {\n",
       "        text-align: right;\n",
       "    }\n",
       "</style>\n",
       "<table border=\"1\" class=\"dataframe\">\n",
       "  <thead>\n",
       "    <tr style=\"text-align: right;\">\n",
       "      <th></th>\n",
       "      <th>Model</th>\n",
       "      <th>accuracy_score</th>\n",
       "      <th>f1_score</th>\n",
       "      <th>recall_score</th>\n",
       "      <th>precision_score</th>\n",
       "    </tr>\n",
       "  </thead>\n",
       "  <tbody>\n",
       "    <tr>\n",
       "      <th>2</th>\n",
       "      <td>dt</td>\n",
       "      <td>0.992739</td>\n",
       "      <td>0.973406</td>\n",
       "      <td>0.951124</td>\n",
       "      <td>0.996756</td>\n",
       "    </tr>\n",
       "    <tr>\n",
       "      <th>3</th>\n",
       "      <td>rfc</td>\n",
       "      <td>0.992648</td>\n",
       "      <td>0.973162</td>\n",
       "      <td>0.954057</td>\n",
       "      <td>0.993047</td>\n",
       "    </tr>\n",
       "    <tr>\n",
       "      <th>6</th>\n",
       "      <td>xgbm</td>\n",
       "      <td>0.939749</td>\n",
       "      <td>0.763808</td>\n",
       "      <td>0.697296</td>\n",
       "      <td>0.844348</td>\n",
       "    </tr>\n",
       "    <tr>\n",
       "      <th>7</th>\n",
       "      <td>lgbm</td>\n",
       "      <td>0.923861</td>\n",
       "      <td>0.697641</td>\n",
       "      <td>0.628706</td>\n",
       "      <td>0.783553</td>\n",
       "    </tr>\n",
       "    <tr>\n",
       "      <th>0</th>\n",
       "      <td>knn</td>\n",
       "      <td>0.919309</td>\n",
       "      <td>0.672940</td>\n",
       "      <td>0.594167</td>\n",
       "      <td>0.775792</td>\n",
       "    </tr>\n",
       "    <tr>\n",
       "      <th>5</th>\n",
       "      <td>gbm</td>\n",
       "      <td>0.902602</td>\n",
       "      <td>0.613774</td>\n",
       "      <td>0.553926</td>\n",
       "      <td>0.688120</td>\n",
       "    </tr>\n",
       "    <tr>\n",
       "      <th>4</th>\n",
       "      <td>ada</td>\n",
       "      <td>0.894817</td>\n",
       "      <td>0.579642</td>\n",
       "      <td>0.519062</td>\n",
       "      <td>0.656231</td>\n",
       "    </tr>\n",
       "    <tr>\n",
       "      <th>1</th>\n",
       "      <td>nb</td>\n",
       "      <td>0.878770</td>\n",
       "      <td>0.489162</td>\n",
       "      <td>0.415445</td>\n",
       "      <td>0.594683</td>\n",
       "    </tr>\n",
       "  </tbody>\n",
       "</table>\n",
       "</div>"
      ],
      "text/plain": [
       "  Model  accuracy_score  f1_score  recall_score  precision_score\n",
       "2    dt        0.992739  0.973406      0.951124         0.996756\n",
       "3   rfc        0.992648  0.973162      0.954057         0.993047\n",
       "6  xgbm        0.939749  0.763808      0.697296         0.844348\n",
       "7  lgbm        0.923861  0.697641      0.628706         0.783553\n",
       "0   knn        0.919309  0.672940      0.594167         0.775792\n",
       "5   gbm        0.902602  0.613774      0.553926         0.688120\n",
       "4   ada        0.894817  0.579642      0.519062         0.656231\n",
       "1    nb        0.878770  0.489162      0.415445         0.594683"
      ]
     },
     "execution_count": 71,
     "metadata": {},
     "output_type": "execute_result"
    }
   ],
   "source": [
    "dic_train.sort_values(['f1_score'],ascending=False)\n",
    "# here the best performance is given by => RandomForestClassifier(), DecisionTreeClassifier()."
   ]
  },
  {
   "cell_type": "code",
   "execution_count": 53,
   "id": "d396e8e7",
   "metadata": {},
   "outputs": [
    {
     "name": "stdout",
     "output_type": "stream",
     "text": [
      "KNeighborsClassifier() :\n",
      "[[7234  325]\n",
      " [ 677  551]]\n",
      "\n",
      "GaussianNB() :\n",
      "[[7189  370]\n",
      " [ 695  533]]\n",
      "\n",
      "DecisionTreeClassifier() :\n",
      "[[7070  489]\n",
      " [ 535  693]]\n",
      "\n",
      "RandomForestClassifier() :\n",
      "[[7272  287]\n",
      " [ 512  716]]\n",
      "\n",
      "AdaBoostClassifier() :\n",
      "[[7207  352]\n",
      " [ 567  661]]\n",
      "\n",
      "GradientBoostingClassifier() :\n",
      "[[7232  327]\n",
      " [ 538  690]]\n",
      "\n",
      "XGBClassifier(base_score=None, booster=None, callbacks=None,\n",
      "              colsample_bylevel=None, colsample_bynode=None,\n",
      "              colsample_bytree=None, early_stopping_rounds=None,\n",
      "              enable_categorical=False, eval_metric=None, feature_types=None,\n",
      "              gamma=None, gpu_id=None, grow_policy=None, importance_type=None,\n",
      "              interaction_constraints=None, learning_rate=None, max_bin=None,\n",
      "              max_cat_threshold=None, max_cat_to_onehot=None,\n",
      "              max_delta_step=None, max_depth=None, max_leaves=None,\n",
      "              min_child_weight=None, missing=nan, monotone_constraints=None,\n",
      "              n_estimators=100, n_jobs=None, num_parallel_tree=None,\n",
      "              predictor=None, random_state=None, ...) :\n",
      "[[7291  268]\n",
      " [ 489  739]]\n",
      "\n",
      "LGBMClassifier() :\n",
      "[[7303  256]\n",
      " [ 506  722]]\n",
      "\n"
     ]
    }
   ],
   "source": [
    "# modeling train and testing on test\n",
    "dic_test=pd.DataFrame()\n",
    "j=0;\n",
    "l1=['knn','nb','dt','rfc','ada','gbm','xgbm','lgbm']\n",
    "for i in l:\n",
    "    m=i.fit(xtrain,ytrain)\n",
    "    pred=m.predict(xtest)\n",
    "    print(i,':')\n",
    "    print(confusion_matrix(ytest,pred))\n",
    "    dic_test.loc[j,'Model']=l1[j]\n",
    "    dic_test.loc[j,'accuracy_score']=accuracy_score(ytest,pred)\n",
    "    dic_test.loc[j,'f1_score']=f1_score(ytest,pred)\n",
    "    dic_test.loc[j,'recall_score']=recall_score(ytest,pred)\n",
    "    dic_test.loc[j,'precision_score']=precision_score(ytest,pred)\n",
    "    j+=1\n",
    "    print()"
   ]
  },
  {
   "cell_type": "code",
   "execution_count": 73,
   "id": "ac778d52",
   "metadata": {},
   "outputs": [
    {
     "data": {
      "text/html": [
       "<div>\n",
       "<style scoped>\n",
       "    .dataframe tbody tr th:only-of-type {\n",
       "        vertical-align: middle;\n",
       "    }\n",
       "\n",
       "    .dataframe tbody tr th {\n",
       "        vertical-align: top;\n",
       "    }\n",
       "\n",
       "    .dataframe thead th {\n",
       "        text-align: right;\n",
       "    }\n",
       "</style>\n",
       "<table border=\"1\" class=\"dataframe\">\n",
       "  <thead>\n",
       "    <tr style=\"text-align: right;\">\n",
       "      <th></th>\n",
       "      <th>Model</th>\n",
       "      <th>accuracy_score</th>\n",
       "      <th>f1_score</th>\n",
       "      <th>recall_score</th>\n",
       "      <th>precision_score</th>\n",
       "    </tr>\n",
       "  </thead>\n",
       "  <tbody>\n",
       "    <tr>\n",
       "      <th>6</th>\n",
       "      <td>xgbm</td>\n",
       "      <td>0.913850</td>\n",
       "      <td>0.661298</td>\n",
       "      <td>0.601792</td>\n",
       "      <td>0.733863</td>\n",
       "    </tr>\n",
       "    <tr>\n",
       "      <th>7</th>\n",
       "      <td>lgbm</td>\n",
       "      <td>0.913281</td>\n",
       "      <td>0.654578</td>\n",
       "      <td>0.587948</td>\n",
       "      <td>0.738241</td>\n",
       "    </tr>\n",
       "    <tr>\n",
       "      <th>3</th>\n",
       "      <td>rfc</td>\n",
       "      <td>0.909070</td>\n",
       "      <td>0.641865</td>\n",
       "      <td>0.583062</td>\n",
       "      <td>0.713858</td>\n",
       "    </tr>\n",
       "    <tr>\n",
       "      <th>5</th>\n",
       "      <td>gbm</td>\n",
       "      <td>0.901559</td>\n",
       "      <td>0.614699</td>\n",
       "      <td>0.561889</td>\n",
       "      <td>0.678466</td>\n",
       "    </tr>\n",
       "    <tr>\n",
       "      <th>4</th>\n",
       "      <td>ada</td>\n",
       "      <td>0.895414</td>\n",
       "      <td>0.589915</td>\n",
       "      <td>0.538274</td>\n",
       "      <td>0.652517</td>\n",
       "    </tr>\n",
       "    <tr>\n",
       "      <th>2</th>\n",
       "      <td>dt</td>\n",
       "      <td>0.883464</td>\n",
       "      <td>0.575104</td>\n",
       "      <td>0.564332</td>\n",
       "      <td>0.586294</td>\n",
       "    </tr>\n",
       "    <tr>\n",
       "      <th>0</th>\n",
       "      <td>knn</td>\n",
       "      <td>0.885968</td>\n",
       "      <td>0.523764</td>\n",
       "      <td>0.448697</td>\n",
       "      <td>0.628995</td>\n",
       "    </tr>\n",
       "    <tr>\n",
       "      <th>1</th>\n",
       "      <td>nb</td>\n",
       "      <td>0.878798</td>\n",
       "      <td>0.500235</td>\n",
       "      <td>0.434039</td>\n",
       "      <td>0.590255</td>\n",
       "    </tr>\n",
       "  </tbody>\n",
       "</table>\n",
       "</div>"
      ],
      "text/plain": [
       "  Model  accuracy_score  f1_score  recall_score  precision_score\n",
       "6  xgbm        0.913850  0.661298      0.601792         0.733863\n",
       "7  lgbm        0.913281  0.654578      0.587948         0.738241\n",
       "3   rfc        0.909070  0.641865      0.583062         0.713858\n",
       "5   gbm        0.901559  0.614699      0.561889         0.678466\n",
       "4   ada        0.895414  0.589915      0.538274         0.652517\n",
       "2    dt        0.883464  0.575104      0.564332         0.586294\n",
       "0   knn        0.885968  0.523764      0.448697         0.628995\n",
       "1    nb        0.878798  0.500235      0.434039         0.590255"
      ]
     },
     "execution_count": 73,
     "metadata": {},
     "output_type": "execute_result"
    }
   ],
   "source": [
    "dic_test.sort_values(['f1_score'],ascending=False)\n",
    "# XGBClassifier() => performs best. \n",
    "# => tuning of hyperparameter might improve performance."
   ]
  }
 ],
 "metadata": {
  "kernelspec": {
   "display_name": "Python 3 (ipykernel)",
   "language": "python",
   "name": "python3"
  },
  "language_info": {
   "codemirror_mode": {
    "name": "ipython",
    "version": 3
   },
   "file_extension": ".py",
   "mimetype": "text/x-python",
   "name": "python",
   "nbconvert_exporter": "python",
   "pygments_lexer": "ipython3",
   "version": "3.9.12"
  }
 },
 "nbformat": 4,
 "nbformat_minor": 5
}
